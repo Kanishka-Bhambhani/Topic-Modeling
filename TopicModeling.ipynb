{
 "cells": [
  {
   "cell_type": "markdown",
   "metadata": {},
   "source": [
    "# Unstructured Data Analytics HW2\n",
    "\n",
    "Name: Kanishka Bhambhani\n",
    "\n",
    "Andrew ID: kbhambha\n",
    "\n",
    "Collaborators (if none, say \"none\"; do *not* leave this blank):\n",
    "\n",
    "Reminder: you should not be sharing code."
   ]
  },
  {
   "cell_type": "markdown",
   "metadata": {},
   "source": [
    "## Question 1: Clustering emails using Gaussian Mixture Models [50 pts]"
   ]
  },
  {
   "cell_type": "markdown",
   "metadata": {},
   "source": [
    "For this problem, we will be analyzing emails taken from the [Enron Email Dataset](https://www.cs.cmu.edu/~enron/). We have already curated the data for you in the `data/enron` directory, with one file per email (so there is no need to redownload the dataset as it is already included in this homework zip archive). The dataset includes a combination of \"spam\" and \"ham\" emails. Spam emails are unsolicited messages intended to sell a product or scam users into providing personal information, while ham emails represent everything that is not spam.\n",
    "\n",
    "The language used in spam emails tends to be considerably different from typical business emails. Most spam filters leverage this difference in word frequencies to detect spam as it arrives and filter it out of email inboxes. We will use Gaussian Mixture Models (GMMs) to cluster the emails and attempt to identify groups of emails which are likely to be spam."
   ]
  },
  {
   "cell_type": "markdown",
   "metadata": {},
   "source": [
    "### Part A: Construct a list of processed documents [10 points]"
   ]
  },
  {
   "cell_type": "markdown",
   "metadata": {},
   "source": [
    "Provided below is a function that returns a document present in a file given a filename. The function performs some preprocessing to (1) remove punctuation, (2),(3) remove whitespace and (4) lowercase all words. Using the `make_word_list` function, construct a list of processed documents."
   ]
  },
  {
   "cell_type": "code",
   "execution_count": 159,
   "metadata": {},
   "outputs": [],
   "source": [
    "import re\n",
    "import string\n",
    "import codecs\n",
    "\n",
    "def make_word_list(path):\n",
    "    \n",
    "    with codecs.open(path, \"r\", encoding='utf-8', errors='ignore') as f:\n",
    "        corpus_text = f.read()\n",
    "\n",
    "    for c in string.punctuation:\n",
    "        corpus_text = corpus_text.replace(c, \"\")  # -- (1)\n",
    "    \n",
    "    text = re.sub(r'\\S*\\d\\S*', '', corpus_text) # -- (2)\n",
    "    text = re.sub(r'[^\\w\\s]', '', text)         # -- (3)\n",
    "    \n",
    "    text = text.lower().split()           # -- (4)         \n",
    "    \n",
    "    li = []\n",
    "    for token in text:\n",
    "        li.append(token)\n",
    "\n",
    "    return \" \".join(li)"
   ]
  },
  {
   "cell_type": "code",
   "execution_count": 160,
   "metadata": {},
   "outputs": [],
   "source": [
    "########################################################################\n",
    "######################### Write your code here #########################\n",
    "########################################################################\n",
    "import glob\n",
    "\n",
    "files = glob.glob('./data/enron/*.txt')\n",
    "\n",
    "file_data = []\n",
    "for name in files:  \n",
    "    data = make_word_list(name)\n",
    "    file_data.append(data)\n",
    "\n"
   ]
  },
  {
   "cell_type": "markdown",
   "metadata": {},
   "source": [
    "### Part B: Construct a document matrix [10 points]"
   ]
  },
  {
   "cell_type": "markdown",
   "metadata": {},
   "source": [
    "Next, construct a document matrix `X` as a matrix of [TF-IDF](https://en.wikipedia.org/wiki/Tf%E2%80%93idf) features for each document. TF-IDF features encode information about the word frequency within a document, weighted by the frequency of the same word for corpus as a whole.\n",
    "\n",
    "   - Use the `TfidfVectorizer` from [scikit-learn](http://scikit-learn.org/stable/modules/generated/sklearn.feature_extraction.text.TfidfVectorizer.html) to create the document matrix `X`.\n",
    "   - Set `min_df=50`; this drops words that don't occur in at least 50 documents.\n",
    "   - Set `stop_words=\"english\"` and `max_df=0.8` to filter out stop-words.\n",
    "   - Print the number of unique words in the vocabulary Hint: Look for the `vocabulary_` attribute in the `TfidfVectorizer` object after fitting the vectorizer to the data set. The vocabulary will also be needed in part (d)."
   ]
  },
  {
   "cell_type": "code",
   "execution_count": 161,
   "metadata": {},
   "outputs": [
    {
     "name": "stdout",
     "output_type": "stream",
     "text": [
      "Unique words : 1680\n"
     ]
    }
   ],
   "source": [
    "########################################################################\n",
    "######################### Write your code here #########################\n",
    "########################################################################\n",
    "from sklearn.feature_extraction.text import TfidfVectorizer \n",
    "tfidf_vectorizer=TfidfVectorizer(min_df=50,stop_words=\"english\",max_df=0.8) \n",
    "tfidf_vectorizer_vectors=tfidf_vectorizer.fit_transform(file_data)\n",
    "\n",
    "unique_words = tfidf_vectorizer.vocabulary_\n",
    "num_of_unique_words = len(unique_words)\n",
    "print(\"Unique words : \" + str(num_of_unique_words))"
   ]
  },
  {
   "cell_type": "markdown",
   "metadata": {},
   "source": [
    "### Part C: Perform Clustering [10 points]"
   ]
  },
  {
   "cell_type": "markdown",
   "metadata": {},
   "source": [
    "Perform clustering on the document matrix `X` using GMMs. \n",
    "- Use the `GaussianMixture` module from [scikit-learn](http://scikit-learn.org/stable/modules/generated/sklearn.mixture.GaussianMixture.html) to cluster the documents.\n",
    "- Set the number of clusters (mixture components) to 3.\n",
    "- Print the number of documents assigned to each cluster."
   ]
  },
  {
   "cell_type": "code",
   "execution_count": 162,
   "metadata": {},
   "outputs": [
    {
     "name": "stdout",
     "output_type": "stream",
     "text": [
      "Counter({2: 3023, 1: 1785, 0: 363})\n"
     ]
    }
   ],
   "source": [
    "########################################################################\n",
    "######################### Write your code here #########################\n",
    "########################################################################\n",
    "\n",
    "from sklearn.mixture import GaussianMixture\n",
    "from collections import Counter\n",
    "\n",
    "gmm = GaussianMixture(n_components=3, random_state=0)\n",
    "gmm.fit(tfidf_vectorizer_vectors.toarray())\n",
    "\n",
    "labels = gmm.predict(tfidf_vectorizer_vectors.toarray())\n",
    "\n",
    "num_of_labels = Counter(labels)\n",
    "\n",
    "print(num_of_labels)"
   ]
  },
  {
   "cell_type": "markdown",
   "metadata": {},
   "source": [
    "### Part D: Characterize the clusters [10 points]"
   ]
  },
  {
   "cell_type": "markdown",
   "metadata": {},
   "source": [
    "Now, we will attempt to characterize the clusters based on the frequency of spam-relevant words. \n",
    "- Select 3 \"spammy\" words from the vocabulary that you expect to occur frequently in spam emails and less frequently in normal business emails (e.g., 'click', 'www', 'offer'). Construct a list, `spam_indices`, storing the indices of the spammy words you selected in the vocabulary generated by `TfidfVectorizer`.\n",
    "- Select 3 \"hammy\" words from the vocabulary you think will occur frequently in business emails and infrequently in spam emails (e.g., 'meeting', 'attached', 'review'). Construct a list, `ham_indices`, storing the indices of the hammy words you selected in the vocabulary generated by `TfidfVectorizer`.\n",
    "- Use the function provided below, `plot_spam_words_by_cluster`, to plot the average TF-IDF features for your selected spammy words and hammy words for each cluster. The function takes the following parameters:\n",
    "    - `X` is a matrix of TF-IDF features (rows index documents, columns index terms).\n",
    "    - `predicted` is predicted cluster assignments returned by `GaussianMixture.predict()`\n",
    "    - `n_clusters` is the number of clusters. This should match the number of clusters from your GMM.\n",
    "    - `spam_indices` is a list of indices of spammy words in the vocabulary.\n",
    "    - `ham_indices` is a list of indices of hammy (typical business) words in the vocabulary."
   ]
  },
  {
   "cell_type": "code",
   "execution_count": 163,
   "metadata": {},
   "outputs": [],
   "source": [
    "def plot_spam_words_by_cluster(X, predicted, n_clusters, spam_indices, ham_indices):\n",
    "    import numpy as np\n",
    "    import matplotlib.pyplot as plt\n",
    "    \n",
    "    # Calculate mean TF-IDF features for each cluster\n",
    "    mean_tfidf_spam = []\n",
    "    mean_tfidf_ham = []\n",
    "    for spam in spam_indices:\n",
    "        mean_tfidf_spam.append([])\n",
    "    for ham in ham_indices:\n",
    "        mean_tfidf_ham.append([])\n",
    "    \n",
    "    for i in range(n_clusters):\n",
    "        for j, spam_idx in enumerate(spam_indices):\n",
    "            mean_tfidf_spam[j].append(X[predicted==i, spam_idx].mean())\n",
    "        for j, ham_idx in enumerate(ham_indices):\n",
    "            mean_tfidf_ham[j].append(X[predicted==i, ham_idx].mean())\n",
    "    \n",
    "    # Generate plot\n",
    "    fig, ax = plt.subplots()\n",
    "\n",
    "    ind = np.arange(n_clusters)    # the x locations for the groups\n",
    "    width = 0.10         # the width of the bars\n",
    "\n",
    "    # Plot spam bars\n",
    "    for i, val in enumerate(mean_tfidf_spam):\n",
    "        spam_bar = ax.bar(ind - (len(mean_tfidf_spam)-i-1)*width, val, width, color='r', bottom=0)\n",
    "\n",
    "    # Plot ham bars\n",
    "    for i, val in enumerate(mean_tfidf_ham):\n",
    "        ham_bar = ax.bar(ind + (len(mean_tfidf_ham)-i)*width, val, width,\n",
    "                color='y', bottom=0)\n",
    "\n",
    "    ax.set_title('Mean TF-IDF Features by Cluster for Spam-Relevant Words')\n",
    "    ax.set_xticks(ind + width / 2)\n",
    "    xticklabels = []\n",
    "    for i in range(n_clusters):\n",
    "        xticklabels.append('Cluster ' + str(i) + '\\n(n=' + str((predicted==i).sum()) + ')')\n",
    "    ax.set_xticklabels(xticklabels)\n",
    "\n",
    "    ax.legend((spam_bar[0], ham_bar[0]), ('Spammy words', 'Hammy words'))\n",
    "    ax.autoscale_view()\n",
    "    ax.set_ylabel('Mean TF-IDF')\n",
    "    plt.show()"
   ]
  },
  {
   "cell_type": "code",
   "execution_count": 175,
   "metadata": {},
   "outputs": [
    {
     "data": {
      "image/png": "[encoded data removed]",
      "text/plain": [
       "<Figure size 432x288 with 1 Axes>"
      ]
     },
     "metadata": {
      "needs_background": "light"
     },
     "output_type": "display_data"
    }
   ],
   "source": [
    "########################################################################\n",
    "######################### Write your code here #########################\n",
    "########################################################################\n",
    "\n",
    "spam_indices = []\n",
    "ham_indices = []\n",
    "for index, word in enumerate(unique_words):\n",
    "    if word == 'click' or word == 'www' or word == 'offer':\n",
    "        spam_indices.append(unique_words[word])\n",
    "    if word == 'meeting' or word == 'attached' or word == 'review':\n",
    "        ham_indices.append(unique_words[word])\n",
    "\n",
    "plot_spam_words_by_cluster(tfidf_vectorizer_vectors, labels, 3, spam_indices, ham_indices)\n",
    "    \n",
    "    "
   ]
  },
  {
   "cell_type": "markdown",
   "metadata": {},
   "source": [
    "### Part E: Interpret results [10 points]"
   ]
  },
  {
   "cell_type": "markdown",
   "metadata": {},
   "source": [
    "From the plot generated in part (d), do any of the clusters correspond to spam emails, based on the frequency of spammy and hammy words? Do any of the clusters appear to correspond to typical business emails (ham)? \n",
    "\n",
    "Re-run your analysis with a different choice for the number of clusters in your GMM (e.g., `n_clusters=5` or `n_clusters=2`). How does changing the number of clusters affect your results? Does one choice of `n_clusters` appear better than another for locating clusters of spam emails?"
   ]
  },
  {
   "cell_type": "markdown",
   "metadata": {},
   "source": [
    "*** WRITE YOUR ANSWER HERE IN TEXT ***\n",
    "\n",
    "3 Clusters -> \n",
    "From the plots of the predicted values with 3 clusters we can infer that cluster 1 has a high number of spammy emails, could probably say that the cluster 1 is of spammy emails. Similarly, cluster 0 has a high range of hammy email and can be said that it is a cluster mostly of business emails. But the clusters are not exactly pure. They both have some hammy and spammy emails as well. And cluster 3 has a combination of both, so we cannot deduce much of a conclusion for 3 clusters\n",
    "\n",
    "After running the matrix and predicting on different number of clusters :\n",
    "\n",
    "2 Clusters -> The model with 2 clusters does not given any significant knowledge since cluster 0 has a combination of both kind of emails. Even though cluster 1 has more number of spammy emails, the count of business emails is significant as well\n",
    "\n",
    "5 Clusters -> In this cluster space we can confidently segragate the spam and ham emails in the clusters except for clluster 1 which seems to have a combination of both. This cluster space though performs better than the above mentioned number of clusters. We can notice that the cluster 2 and cluster 3 both have majority of the spam emails. With cluster 2 having just spam emails thus being the spam cluster. The business emails are also well segragated in cluster 0 and cluster 4.\n",
    "\n",
    "7 clusters -> Even though the segragartion between the spam and ham emails can be seen clearly in few of the clusters. Clusters 2, 3 and 5 being spam clusters, 4 and 6 being ham clusters, there are still 2 clusters with a combination of both of them. \n",
    "\n",
    "The conclusion by trying various set of clusters could be that the number of clusters should be between 3 and 7, more optimal from the below clusters can be interpreted as 5, since most of the clusters were distinctly classified between spmammy and hammy. This let's us know that the insights can heavily depend on the number of clusters chosen in order to fit and predict the model."
   ]
  },
  {
   "cell_type": "code",
   "execution_count": 176,
   "metadata": {},
   "outputs": [
    {
     "data": {
      "text/plain": [
       "<Figure size 864x432 with 0 Axes>"
      ]
     },
     "metadata": {},
     "output_type": "display_data"
    },
    {
     "data": {
      "image/png": "[encoded data removed]",
      "text/plain": [
       "<Figure size 432x288 with 1 Axes>"
      ]
     },
     "metadata": {
      "needs_background": "light"
     },
     "output_type": "display_data"
    },
    {
     "data": {
      "text/plain": [
       "<Figure size 864x432 with 0 Axes>"
      ]
     },
     "metadata": {},
     "output_type": "display_data"
    },
    {
     "data": {
      "image/png": "[encoded data removed]",
      "text/plain": [
       "<Figure size 432x288 with 1 Axes>"
      ]
     },
     "metadata": {
      "needs_background": "light"
     },
     "output_type": "display_data"
    },
    {
     "data": {
      "text/plain": [
       "<Figure size 864x432 with 0 Axes>"
      ]
     },
     "metadata": {},
     "output_type": "display_data"
    },
    {
     "data": {
      "image/png": "[encoded data removed]",
      "text/plain": [
       "<Figure size 432x288 with 1 Axes>"
      ]
     },
     "metadata": {
      "needs_background": "light"
     },
     "output_type": "display_data"
    }
   ],
   "source": [
    "########################################################################\n",
    "######################### Write your code here #########################\n",
    "########################################################################\n",
    "\n",
    "## Re-running the analysis by considering no of clusters as 2:\n",
    "\n",
    "gmm_2 = GaussianMixture(n_components=2, random_state=0)\n",
    "gmm_2.fit(tfidf_vectorizer_vectors.toarray())\n",
    "labels_2=gmm_2.predict(tfidf_vectorizer_vectors.toarray())\n",
    "\n",
    "plt.figure(figsize=(12,6))\n",
    "plot_spam_words_by_cluster(tfidf_vectorizer_vectors,labels_2,2,spam_indices,ham_indices)\n",
    "\n",
    "## Re-running the analysis by considering no of clusters as 5:\n",
    "\n",
    "gmm_5 = GaussianMixture(n_components=5, random_state=0)\n",
    "gmm_5.fit(tfidf_vectorizer_vectors.toarray())\n",
    "labels_5=gmm_5.predict(tfidf_vectorizer_vectors.toarray())\n",
    "  \n",
    "\n",
    "plt.figure(figsize=(12,6))\n",
    "plot_spam_words_by_cluster(tfidf_vectorizer_vectors,labels_5,5,spam_indices,ham_indices)\n",
    "\n",
    "## Re-running the analysis by considering no of clusters as 7:\n",
    "\n",
    "gmm_7 = GaussianMixture(n_components=7, random_state=0)\n",
    "gmm_7.fit(tfidf_vectorizer_vectors.toarray())\n",
    "labels_7=gmm_7.predict(tfidf_vectorizer_vectors.toarray())\n",
    "  \n",
    "\n",
    "plt.figure(figsize=(12,6))\n",
    "plot_spam_words_by_cluster(tfidf_vectorizer_vectors,labels_7, 7,spam_indices,ham_indices)"
   ]
  },
  {
   "cell_type": "markdown",
   "metadata": {},
   "source": [
    "## Question 2: Latent \"Purposes\" in Mobile Apps [45 points]\n",
    "\n",
    "\n",
    "Think of Android applications as \"documents\", where \"words\" are the \"permissions\" that each app requests. Each app has a set of latent \"purposes\" (topics); a \"purpose\" may be a specific task (such as taking photographs and uploading them to the internet), and an application may have a mixture of purposes of varying strength.\n",
    "\n",
    "Can we uncover these purposes from a dataset of Android applications and the permissions they request?"
   ]
  },
  {
   "cell_type": "code",
   "execution_count": 165,
   "metadata": {},
   "outputs": [],
   "source": [
    "import numpy as np\n",
    "import matplotlib.pyplot as plt\n",
    "import pandas as pd\n",
    "%matplotlib inline"
   ]
  },
  {
   "cell_type": "markdown",
   "metadata": {},
   "source": [
    "### Part A: Load the data [0 points]"
   ]
  },
  {
   "cell_type": "markdown",
   "metadata": {},
   "source": [
    "The [dataset](http://www.mariofrank.net/andrApps/) contains ~180,000 applications from the Android app store, including each app's name, description and permissions requested. For more about Android app permissions, see [this report](http://www.pewinternet.org/2015/11/10/an-analysis-of-android-app-permissions/).\n",
    "\n",
    "   * Download the data and unzip it into the same folder as this notebook.\n",
    "   * Rename the CSV file to \"android.csv\".\n",
    "   * Run the cells below to load the data into the notebook.\n",
    "\n",
    "This may take up ~2GB of RAM."
   ]
  },
  {
   "cell_type": "code",
   "execution_count": 166,
   "metadata": {},
   "outputs": [],
   "source": [
    "df = pd.read_csv(\"android.csv\", sep=\",\",  thousands=\",\")"
   ]
  },
  {
   "cell_type": "code",
   "execution_count": 167,
   "metadata": {},
   "outputs": [],
   "source": [
    "df[\"Number of ratings\"] = df[\"Number of ratings\"].astype(int) # fix data type\n",
    "df = df.drop_duplicates(subset=[\"App\"]).reset_index(drop=True)"
   ]
  },
  {
   "cell_type": "code",
   "execution_count": 168,
   "metadata": {},
   "outputs": [
    {
     "data": {
      "text/html": [
       "<div>\n",
       "<style scoped>\n",
       "    .dataframe tbody tr th:only-of-type {\n",
       "        vertical-align: middle;\n",
       "    }\n",
       "\n",
       "    .dataframe tbody tr th {\n",
       "        vertical-align: top;\n",
       "    }\n",
       "\n",
       "    .dataframe thead th {\n",
       "        text-align: right;\n",
       "    }\n",
       "</style>\n",
       "<table border=\"1\" class=\"dataframe\">\n",
       "  <thead>\n",
       "    <tr style=\"text-align: right;\">\n",
       "      <th></th>\n",
       "      <th>App</th>\n",
       "      <th>Package</th>\n",
       "      <th>Category</th>\n",
       "      <th>Description</th>\n",
       "      <th>Rating</th>\n",
       "      <th>Number of ratings</th>\n",
       "      <th>Price</th>\n",
       "      <th>Related apps</th>\n",
       "      <th>Dangerous permissions count</th>\n",
       "      <th>Safe permissions count</th>\n",
       "      <th>...</th>\n",
       "      <th>Your personal information : read Browser's history and bookmarks (D)</th>\n",
       "      <th>Your personal information : read calendar events (D)</th>\n",
       "      <th>Your personal information : read contact data (D)</th>\n",
       "      <th>Your personal information : read sensitive log data (D)</th>\n",
       "      <th>Your personal information : read user defined dictionary (D)</th>\n",
       "      <th>Your personal information : retrieve system internal state (S)</th>\n",
       "      <th>Your personal information : set alarm in alarm clock (S)</th>\n",
       "      <th>Your personal information : write Browser's history and bookmarks (D)</th>\n",
       "      <th>Your personal information : write contact data (D)</th>\n",
       "      <th>Your personal information : write to user defined dictionary (S)</th>\n",
       "    </tr>\n",
       "  </thead>\n",
       "  <tbody>\n",
       "    <tr>\n",
       "      <th>0</th>\n",
       "      <td>Google Maps</td>\n",
       "      <td>com.google.android.apps.maps</td>\n",
       "      <td>Travel &amp; Local</td>\n",
       "      <td>Download the latest release of Google Maps, an...</td>\n",
       "      <td>4.4</td>\n",
       "      <td>1438259</td>\n",
       "      <td>$0.00</td>\n",
       "      <td>{com.jsdfproductions.ctatrackerpro, com.alk.co...</td>\n",
       "      <td>17.0</td>\n",
       "      <td>8</td>\n",
       "      <td>...</td>\n",
       "      <td>0</td>\n",
       "      <td>0</td>\n",
       "      <td>1</td>\n",
       "      <td>0</td>\n",
       "      <td>0</td>\n",
       "      <td>0</td>\n",
       "      <td>0</td>\n",
       "      <td>0</td>\n",
       "      <td>1</td>\n",
       "      <td>0</td>\n",
       "    </tr>\n",
       "    <tr>\n",
       "      <th>1</th>\n",
       "      <td>Snowfall Live Wallpaper</td>\n",
       "      <td>fishnoodle.snowfall_free</td>\n",
       "      <td>Personalization</td>\n",
       "      <td>Snowfall Live Wallpaper: Wintertime on your ho...</td>\n",
       "      <td>4.3</td>\n",
       "      <td>18147</td>\n",
       "      <td>$0.00</td>\n",
       "      <td>{colfore.wallpaper.snowfree, com.tabsoft.wallp...</td>\n",
       "      <td>0.0</td>\n",
       "      <td>0</td>\n",
       "      <td>...</td>\n",
       "      <td>0</td>\n",
       "      <td>0</td>\n",
       "      <td>0</td>\n",
       "      <td>0</td>\n",
       "      <td>0</td>\n",
       "      <td>0</td>\n",
       "      <td>0</td>\n",
       "      <td>0</td>\n",
       "      <td>0</td>\n",
       "      <td>0</td>\n",
       "    </tr>\n",
       "    <tr>\n",
       "      <th>2</th>\n",
       "      <td>Aquarium Live Wallpaper</td>\n",
       "      <td>fishnoodle.aquarium_free</td>\n",
       "      <td>Personalization</td>\n",
       "      <td>A beautiful tropical fish tank live wallpaper!...</td>\n",
       "      <td>4.1</td>\n",
       "      <td>62145</td>\n",
       "      <td>$0.00</td>\n",
       "      <td>{com.convisual.lwp.fishometerlite, com.accessl...</td>\n",
       "      <td>0.0</td>\n",
       "      <td>0</td>\n",
       "      <td>...</td>\n",
       "      <td>0</td>\n",
       "      <td>0</td>\n",
       "      <td>0</td>\n",
       "      <td>0</td>\n",
       "      <td>0</td>\n",
       "      <td>0</td>\n",
       "      <td>0</td>\n",
       "      <td>0</td>\n",
       "      <td>0</td>\n",
       "      <td>0</td>\n",
       "    </tr>\n",
       "  </tbody>\n",
       "</table>\n",
       "<p>3 rows × 183 columns</p>\n",
       "</div>"
      ],
      "text/plain": [
       "                       App                       Package         Category  \\\n",
       "0              Google Maps  com.google.android.apps.maps   Travel & Local   \n",
       "1  Snowfall Live Wallpaper      fishnoodle.snowfall_free  Personalization   \n",
       "2  Aquarium Live Wallpaper      fishnoodle.aquarium_free  Personalization   \n",
       "\n",
       "                                         Description  Rating  \\\n",
       "0  Download the latest release of Google Maps, an...     4.4   \n",
       "1  Snowfall Live Wallpaper: Wintertime on your ho...     4.3   \n",
       "2  A beautiful tropical fish tank live wallpaper!...     4.1   \n",
       "\n",
       "   Number of ratings  Price  \\\n",
       "0            1438259  $0.00   \n",
       "1              18147  $0.00   \n",
       "2              62145  $0.00   \n",
       "\n",
       "                                        Related apps  \\\n",
       "0  {com.jsdfproductions.ctatrackerpro, com.alk.co...   \n",
       "1  {colfore.wallpaper.snowfree, com.tabsoft.wallp...   \n",
       "2  {com.convisual.lwp.fishometerlite, com.accessl...   \n",
       "\n",
       "   Dangerous permissions count  Safe permissions count  ...  \\\n",
       "0                         17.0                       8  ...   \n",
       "1                          0.0                       0  ...   \n",
       "2                          0.0                       0  ...   \n",
       "\n",
       "   Your personal information : read Browser's history and bookmarks (D)  \\\n",
       "0                                                  0                      \n",
       "1                                                  0                      \n",
       "2                                                  0                      \n",
       "\n",
       "   Your personal information : read calendar events (D)  \\\n",
       "0                                                  0      \n",
       "1                                                  0      \n",
       "2                                                  0      \n",
       "\n",
       "   Your personal information : read contact data (D)  \\\n",
       "0                                                  1   \n",
       "1                                                  0   \n",
       "2                                                  0   \n",
       "\n",
       "   Your personal information : read sensitive log data (D)  \\\n",
       "0                                                  0         \n",
       "1                                                  0         \n",
       "2                                                  0         \n",
       "\n",
       "   Your personal information : read user defined dictionary (D)  \\\n",
       "0                                                  0              \n",
       "1                                                  0              \n",
       "2                                                  0              \n",
       "\n",
       "   Your personal information : retrieve system internal state (S)  \\\n",
       "0                                                  0                \n",
       "1                                                  0                \n",
       "2                                                  0                \n",
       "\n",
       "   Your personal information : set alarm in alarm clock (S)  \\\n",
       "0                                                  0          \n",
       "1                                                  0          \n",
       "2                                                  0          \n",
       "\n",
       "   Your personal information : write Browser's history and bookmarks (D)  \\\n",
       "0                                                  0                       \n",
       "1                                                  0                       \n",
       "2                                                  0                       \n",
       "\n",
       "   Your personal information : write contact data (D)  \\\n",
       "0                                                  1    \n",
       "1                                                  0    \n",
       "2                                                  0    \n",
       "\n",
       "   Your personal information : write to user defined dictionary (S)  \n",
       "0                                                  0                 \n",
       "1                                                  0                 \n",
       "2                                                  0                 \n",
       "\n",
       "[3 rows x 183 columns]"
      ]
     },
     "execution_count": 168,
     "metadata": {},
     "output_type": "execute_result"
    }
   ],
   "source": [
    "df.head(n=3)"
   ]
  },
  {
   "cell_type": "markdown",
   "metadata": {},
   "source": [
    "### Part B: Convert each app into a \"document\" [0 points]\n",
    "\n",
    "The code below does the following:\n",
    "\n",
    "   * Filter out all the columns except the permission columns.\n",
    "   * Convert this dataframe into a numpy matrix.\n",
    "\n",
    "There are thus 180295 apps (documents) and 173 permissions (words).\n",
    "\n",
    "   - `X` is the \"document\" or \"word-frequency\" matrix.\n",
    "   - `permission_columns` contains the words ordered by their column index in X.\n",
    "   - `app_names` contains the application names ordered by their row index in X.\n",
    "   - `app_ratings` contains the *number* of application ratings (not the ratings themselves)."
   ]
  },
  {
   "cell_type": "markdown",
   "metadata": {},
   "source": [
    "### Part C: Downweight \"stopwords\" [2.5 points]\n",
    "\n",
    "There are some permissions requested by almost all applications (like \"INTERNET\"), they are similar to stop-words (\"the\", \"and\", etc.) in natural language. We can downweight them by TF-IDF normalization.\n",
    "\n",
    "   * Use the `TfidfTransformer` class in `scikit-learn` to transform X."
   ]
  },
  {
   "cell_type": "code",
   "execution_count": 169,
   "metadata": {},
   "outputs": [],
   "source": [
    "permission_columns = list(df.columns[10:])\n",
    "app_names = list(df[\"App\"])\n",
    "app_ratings = np.array(df[\"Number of ratings\"])\n",
    "df_perms = df[permission_columns]\n",
    "X = df_perms.values\n",
    "#del df # uncomment to free up RAM\n",
    "#del df_perms # uncomment to free up RAM"
   ]
  },
  {
   "cell_type": "markdown",
   "metadata": {},
   "source": [
    "### Part D: Discover 10 \"topics\" [2.5 points]\n",
    "\n",
    "   * Use the `LatentDirichletAllocation` class in `scikit-learn` to fit 10 topics to the data.\n",
    "   * Use 10 max iterations, set `n_jobs=-1` to use all cores on your machine (if it helps).\n",
    "   * Feel free to understand and play around with other parameters.\n",
    "   * This may take around 3 minutes to run."
   ]
  },
  {
   "cell_type": "code",
   "execution_count": 170,
   "metadata": {},
   "outputs": [],
   "source": [
    "########################################################################\n",
    "######################### Write your code here #########################\n",
    "########################################################################\n",
    "import pandas as pd\n",
    "from sklearn.feature_extraction.text import TfidfTransformer\n",
    "\n",
    "tfidf_transformer=TfidfTransformer() \n",
    "stopwords = tfidf_transformer.fit_transform(X).toarray()"
   ]
  },
  {
   "cell_type": "code",
   "execution_count": 171,
   "metadata": {},
   "outputs": [
    {
     "name": "stdout",
     "output_type": "stream",
     "text": [
      "Wall time: 1min 25s\n"
     ]
    },
    {
     "data": {
      "text/plain": [
       "LatentDirichletAllocation(n_jobs=-1, random_state=0)"
      ]
     },
     "execution_count": 171,
     "metadata": {},
     "output_type": "execute_result"
    }
   ],
   "source": [
    "%%time\n",
    "########################################################################\n",
    "######################### Write your code here #########################\n",
    "########################################################################\n",
    "\n",
    "num_topics = 10\n",
    "\n",
    "from sklearn.decomposition import LatentDirichletAllocation\n",
    "lda = LatentDirichletAllocation(n_components=num_topics, n_jobs=-1, random_state=0, max_iter=10)\n",
    "lda.fit(stopwords)"
   ]
  },
  {
   "cell_type": "markdown",
   "metadata": {},
   "source": [
    "Now each app can be viewed as a distribution over these 10 topics, and each topic is a distribution over all the permissions in the data."
   ]
  },
  {
   "cell_type": "markdown",
   "metadata": {},
   "source": [
    "### Part E: List the top 10 \"words\" in each topic [15 points]\n",
    "\n",
    "Do any of the topics correspond to meaningful app \"purposes\"? List the ones you find meaningful below:\n",
    "\n",
    "   * Topic #i: \"your interpretation\""
   ]
  },
  {
   "cell_type": "code",
   "execution_count": 172,
   "metadata": {},
   "outputs": [
    {
     "name": "stdout",
     "output_type": "stream",
     "text": [
      "Topic 0 :\n",
      " Your location : coarse (network-based) location (D)\n",
      " Your location : fine (GPS) location (D)\n",
      " Network communication : full Internet access (D)\n",
      " Network communication : view network state (S)\n",
      " Phone calls : read phone state and identity (D)\n",
      " Storage : modify/delete USB storage contents modify/delete SD card contents (D)\n",
      " Services that cost you money : directly call phone numbers (D)\n",
      " Your personal information : read sensitive log data (D)\n",
      " Network communication : view Wi-Fi state (S)\n",
      " Default : access checkin properties (S)\n",
      "\n",
      "Topic 1 :\n",
      " Hardware controls : control vibrator (S)\n",
      " Network communication : full Internet access (D)\n",
      " Network communication : view network state (S)\n",
      " Storage : modify/delete USB storage contents modify/delete SD card contents (D)\n",
      " System tools : disable keylock (D)\n",
      " Phone calls : read phone state and identity (D)\n",
      " System tools : prevent device from sleeping (D)\n",
      " Hardware controls : change your audio settings (D)\n",
      " Default : modify battery statistics (S)\n",
      " System tools : modify global system settings (D)\n",
      "\n",
      "Topic 2 :\n",
      " Network communication : full Internet access (D)\n",
      " Network communication : view network state (S)\n",
      " Your accounts : Google Finance (D)\n",
      " Your personal information : read contact data (D)\n",
      " System tools : modify global system settings (D)\n",
      " Your accounts : view configured accounts (S)\n",
      " Your accounts : discover known accounts (S)\n",
      " Services that cost you money : send SMS messages (D)\n",
      " Your accounts : use the authentication credentials of an account (D)\n",
      " Your messages : receive SMS (D)\n",
      "\n",
      "Topic 3 :\n",
      " Your accounts : discover known accounts (S)\n",
      " Default : directly install applications (S)\n",
      " Your accounts : use the authentication credentials of an account (D)\n",
      " Storage : modify/delete USB storage contents modify/delete SD card contents (D)\n",
      " Network communication : view network state (S)\n",
      " System tools : prevent device from sleeping (D)\n",
      " Network communication : full Internet access (D)\n",
      " Your accounts : manage the accounts list (D)\n",
      " Default : delete applications (S)\n",
      " Phone calls : read phone state and identity (D)\n",
      "\n",
      "Topic 4 :\n",
      " System tools : prevent device from sleeping (D)\n",
      " Network communication : full Internet access (D)\n",
      " System tools : automatically start at boot (S)\n",
      " Storage : modify/delete USB storage contents modify/delete SD card contents (D)\n",
      " Network communication : view network state (S)\n",
      " Phone calls : read phone state and identity (D)\n",
      " Hardware controls : control vibrator (S)\n",
      " System tools : change your UI settings (D)\n",
      " System tools : set wallpaper size hints (S)\n",
      " System tools : set wallpaper (S)\n",
      "\n",
      "Topic 5 :\n",
      " Storage : modify/delete USB storage contents modify/delete SD card contents (D)\n",
      " System tools : set wallpaper (S)\n",
      " Network communication : full Internet access (D)\n",
      " Network communication : view network state (S)\n",
      " Phone calls : read phone state and identity (D)\n",
      " System tools : mount and unmount filesystems (D)\n",
      " Default : bind to a wallpaper (S)\n",
      " Default : write instant messages (S)\n",
      " Default : read instant messages (S)\n",
      " Hardware controls : take pictures and videos (D)\n",
      "\n",
      "Topic 6 :\n",
      " Hardware controls : take pictures and videos (D)\n",
      " Hardware controls : record audio (D)\n",
      " Storage : modify/delete USB storage contents modify/delete SD card contents (D)\n",
      " Your location : fine (GPS) location (D)\n",
      " Your location : coarse (network-based) location (D)\n",
      " Network communication : full Internet access (D)\n",
      " Network communication : view network state (S)\n",
      " Hardware controls : control vibrator (S)\n",
      " Your location : access extra location provider commands (S)\n",
      " Phone calls : read phone state and identity (D)\n",
      "\n",
      "Topic 7 :\n",
      " Network communication : view Wi-Fi state (S)\n",
      " Phone calls : read phone state and identity (D)\n",
      " Network communication : view network state (S)\n",
      " Network communication : full Internet access (D)\n",
      " Storage : modify/delete USB storage contents modify/delete SD card contents (D)\n",
      " System tools : change Wi-Fi state (D)\n",
      " Network communication : create Bluetooth connections (D)\n",
      " System tools : bluetooth administration (D)\n",
      " System tools : change network connectivity (D)\n",
      " System tools : allow Wi-Fi Multicast reception (D)\n",
      "\n",
      "Topic 8 :\n",
      " System tools : retrieve running applications (D)\n",
      " Phone calls : read phone state and identity (D)\n",
      " Services that cost you money : directly call phone numbers (D)\n",
      " Network communication : view network state (S)\n",
      " Network communication : receive data from Internet (S)\n",
      " Network communication : full Internet access (D)\n",
      " Storage : modify/delete USB storage contents modify/delete SD card contents (D)\n",
      " System tools : prevent device from sleeping (D)\n",
      " Hardware controls : control vibrator (S)\n",
      " Your location : fine (GPS) location (D)\n",
      "\n",
      "Topic 9 :\n",
      " Your personal information : read contact data (D)\n",
      " Services that cost you money : send SMS messages (D)\n",
      " System tools : modify global system settings (D)\n",
      " Phone calls : read phone state and identity (D)\n",
      " Your messages : receive SMS (D)\n",
      " Network communication : full Internet access (D)\n",
      " Your personal information : write contact data (D)\n",
      " Your messages : read SMS or MMS (D)\n",
      " Phone calls : intercept outgoing calls (D)\n",
      " System tools : automatically start at boot (S)\n",
      "\n"
     ]
    }
   ],
   "source": [
    "########################################################################\n",
    "######################### Write your code here #########################\n",
    "########################################################################\n",
    "alltopics_top_words = []\n",
    "top_words = np.zeros(len(lda.components_))\n",
    "for topic_idx, word_dist in enumerate(lda.components_):\n",
    "    top_word_indices = np.argsort(-word_dist)[:10]\n",
    "    top_words = [permission_columns[word_idx] + \"\\n\" for word_idx in top_word_indices]\n",
    "    alltopics_top_words.append(top_words)\n",
    "    print('Topic', topic_idx, ':\\n', ' '.join(top_words))"
   ]
  },
  {
   "cell_type": "markdown",
   "metadata": {},
   "source": [
    "*** WRITE YOUR ANSWER HERE IN TEXT ***\n",
    "\n",
    "Following are the interpretations for various topics:\n",
    "\n",
    "Topic #0 : Has GPS permissions and combined with Internet permissions can indicate applications with the Map feature. \n",
    "\n",
    "Topic #1 : The topic has permission related to vibration and preventing the app from goind to sleep. Also battery and network related permissions. It could be have applications related to video streaming online or gaming.\n",
    "\n",
    "Topic 2# : It has permissions regaring Google Finance and user authentication, it could be related to the banking applications, since they require the user to authenticate\n",
    "\n",
    "Topic 5# : Reading, writing instant permissions and taking pictures and videos indicate the applications can be related to the Social Media domain, for example Facebook or Instagram.\n",
    "\n",
    "Topic 7# : The permissions are related to Wi-FI, network and bluetooth connectivity hinting towards the Networking applications\n",
    "\n",
    "Topic 9# : The premissions revolve around reading and writing sms and reading contact data. The applications could be related to calling and messaging. Example: SMS and Phone contacts\n"
   ]
  },
  {
   "cell_type": "markdown",
   "metadata": {},
   "source": [
    "### Part F: For each topic, list the top 3 apps with at least 100000 ratings having the highest probability assigned to that topic [15 points]\n",
    "\n",
    "   - This further helps us understand what the topics actually mean.\n",
    "   - However, the data is noisy and this exercise may result in listing a bunch of obscure apps.\n",
    "   - Hence, filtering out all apps with less than 100000 ratings may help."
   ]
  },
  {
   "cell_type": "code",
   "execution_count": 173,
   "metadata": {},
   "outputs": [
    {
     "name": "stdout",
     "output_type": "stream",
     "text": [
      "Topic 0 :\n",
      "Dictionary.com  :  0.7169213652901968\n",
      "Air Control Lite  :  0.7169213652901968\n",
      "Paper Toss  :  0.693537007927831\n",
      "Topic 1 :\n",
      "Vaulty Free Hides Pictures  :  0.7166941882853555\n",
      "Live Holdem Poker Pro  :  0.7166941882853555\n",
      "Bubble Blast 2  :  0.6932433156888418\n",
      "Topic 2 :\n",
      "Angry Birds Seasons  :  0.6247326164893362\n",
      "Yoo Ninja! Free  :  0.6247326164893362\n",
      "Adobe Reader  :  0.5499688253454359\n",
      "Topic 3 :\n",
      "Lookout Security & Antivirus  :  0.8569142310189861\n",
      "Antivirus Free  :  0.8544435285083867\n",
      "Skype  :  0.8488560887483078\n",
      "Topic 4 :\n",
      "Real BlackJack  :  0.7163547288042715\n",
      "Alchemy  :  0.7154575322062603\n",
      "Tank Hero  :  0.7153329576328672\n",
      "Topic 5 :\n",
      "World Newspapers  :  0.6962050155184168\n",
      "Paradise Island  :  0.6962050155184168\n",
      "My Country  :  0.6962050155184168\n",
      "Topic 6 :\n",
      "Brightest Flashlight Free™  :  0.7624645101661686\n",
      "Brightest Flashlight Free???  :  0.7624645101661686\n",
      "Tiny Flashlight + LED  :  0.7496671670476458\n",
      "Topic 7 :\n",
      "Slice It!  :  0.7208866952958151\n",
      "Racing Moto  :  0.6877805097076612\n",
      "Blast Monkeys  :  0.6657571518210905\n",
      "Topic 8 :\n",
      "TuneIn Radio  :  0.7434402995050244\n",
      "Restaurant Story™  :  0.7273284687539264\n",
      "Restaurant Story???  :  0.7273284687539264\n",
      "Topic 9 :\n",
      "chompSMS  :  0.7887908440389022\n",
      "Ringdroid  :  0.7072941861527727\n",
      "Google Sky Map  :  0.7062729832878287\n"
     ]
    }
   ],
   "source": [
    "########################################################################\n",
    "######################### Write your code here #########################\n",
    "########################################################################\n",
    "\n",
    "top_ratings = app_ratings>100000\n",
    "\n",
    "topic_matrix = lda.transform(stopwords)\n",
    "\n",
    "app_names_array=np.array(app_names)\n",
    "\n",
    "for topic_index in range (len(lda.components_)):\n",
    "    print('Topic ', topic_index, ' :', sep='')\n",
    "    app_index_values=np.argsort(-topic_matrix[top_ratings][:,topic_index])[:3]\n",
    "    for app_index in app_index_values:\n",
    "        print(app_names_array[top_ratings][app_index], \" : \",topic_matrix[top_ratings][app_index,topic_index])\n"
   ]
  },
  {
   "cell_type": "markdown",
   "metadata": {},
   "source": [
    "### Part G: Visualize the document-topic proportion matrix in 2-D using t-SNE [10 points]\n",
    "\n",
    "Does our reduced dimensional space contain any structure? Visualize the documents (in the topic-space) using t-SNE.\n",
    "\n",
    "   * Use `TSNE` from `scikit-learn`.\n",
    "   * Set the angle to 0.99 and init to 'PCA'. Pick any learning rate that gives you a visually pleasing result.\n",
    "   * You may `fit` TSNE to a sample of the data (>1000 documents) instead of the full data.\n",
    "   * Remember to call `fit_transform` to obtain your 2-D data.\n",
    "   * Plot the t-SNE dimensions as a scatterplot.\n",
    "   * Color each point based on its most probable topic. Make sure you include a legend (10 colors).\n",
    "   \n",
    "Clusters in the t-SNE plot indicate groups of apps that have similar topics."
   ]
  },
  {
   "cell_type": "code",
   "execution_count": 178,
   "metadata": {},
   "outputs": [
    {
     "name": "stderr",
     "output_type": "stream",
     "text": [
      "C:\\Users\\kanis\\Miniconda3\\envs\\uda\\lib\\site-packages\\sklearn\\manifold\\_t_sne.py:790: FutureWarning: The default learning rate in TSNE will change from 200.0 to 'auto' in 1.2.\n",
      "  warnings.warn(\n",
      "C:\\Users\\kanis\\Miniconda3\\envs\\uda\\lib\\site-packages\\sklearn\\manifold\\_t_sne.py:982: FutureWarning: The PCA initialization in TSNE will change to have the standard deviation of PC1 equal to 1e-4 in 1.2. This will ensure better convergence.\n",
      "  warnings.warn(\n"
     ]
    },
    {
     "data": {
      "image/png": "[encoded data removed]",
      "text/plain": [
       "<Figure size 432x288 with 2 Axes>"
      ]
     },
     "metadata": {
      "needs_background": "light"
     },
     "output_type": "display_data"
    },
    {
     "name": "stdout",
     "output_type": "stream",
     "text": [
      "Wall time: 13 s\n"
     ]
    }
   ],
   "source": [
    "%%time\n",
    "########################################################################\n",
    "######################### Write your code here #########################\n",
    "########################################################################\n",
    "\n",
    "from sklearn.manifold import TSNE\n",
    "\n",
    "tsne = TSNE(init='pca', angle = 0.99, n_components=2, random_state=0)\n",
    "X_tsne2D = tsne.fit_transform(topic_matrix[0:2500])\n",
    "\n",
    "topic_list =[]\n",
    "for topic in topic_matrix[0:2500]:\n",
    "    topic_list.append(np.argmax(topic))\n",
    "\n",
    "plt.scatter(X_tsne2D[:, 0],\n",
    "            X_tsne2D[:, 1],\n",
    "            c=topic_list, cmap='Set1')\n",
    "\n",
    "plt.axis('equal')\n",
    "plt.title('App-Topic Proportion Matrix',fontweight ='bold', fontsize = 14)\n",
    "plt.xlabel('t-sne Component 1',fontweight ='bold', fontsize = 14)\n",
    "plt.ylabel('t-sne Component 2',fontweight ='bold', fontsize = 14)\n",
    "plt.colorbar()\n",
    "plt.show()\n",
    "\n"
   ]
  },
  {
   "cell_type": "markdown",
   "metadata": {},
   "source": [
    "## Question 3: Questionnaire [5 points]\n",
    "\n",
    "Please answer this survey after you have done this homework: https://forms.gle/vquMWbW9bbTedCJd7"
   ]
  }
 ],
 "metadata": {
  "kernelspec": {
   "display_name": "Python 3",
   "language": "python",
   "name": "python3"
  },
  "language_info": {
   "codemirror_mode": {
    "name": "ipython",
    "version": 3
   },
   "file_extension": ".py",
   "mimetype": "text/x-python",
   "name": "python",
   "nbconvert_exporter": "python",
   "pygments_lexer": "ipython3",
   "version": "3.9.7"
  }
 },
 "nbformat": 4,
 "nbformat_minor": 2
}
